{
 "cells": [
  {
   "cell_type": "markdown",
   "metadata": {},
   "source": [
    "## Course: Computing Foundation of Data Science\n",
    "## Project Title: Big Data \n",
    "## Authors: Kubam Ivo Mbi and Berdai Hasnae\n"
   ]
  },
  {
   "cell_type": "code",
   "execution_count": 86,
   "metadata": {},
   "outputs": [
    {
     "name": "stdout",
     "output_type": "stream",
     "text": [
      "Total number of files:  281\n"
     ]
    }
   ],
   "source": [
    "# Getting the necessary files ready\n",
    "import os\n",
    "# Check wether folder exist if not create\n",
    "if os.path.exists('Files'):\n",
    "    pass\n",
    "else:\n",
    "    os.mkdir('Files')\n",
    "    # unzip the files\n",
    "    # This line of code assumes the zipped file is in the same location as this jupyter notebook\n",
    "import zipfile\n",
    "    \n",
    "with zipfile.ZipFile('tlc_0.2perc.zip') as zip_ref:\n",
    "    zip_ref.extractall('Files/')\n",
    "#Checking the total number of files\n",
    "print(\"Total number of files: \", str(len(os.listdir('Files/tlc_0.2perc'))))"
   ]
  },
  {
   "cell_type": "markdown",
   "metadata": {},
   "source": [
    "### Task 2.1: Collecting metadata, inspecting schema evolution"
   ]
  },
  {
   "cell_type": "code",
   "execution_count": 84,
   "metadata": {},
   "outputs": [],
   "source": [
    "# Creating a new spark session\n",
    "from pyspark.sql import SparkSession\n",
    "spark = SparkSession.builder \\\n",
    "    .master('local[*]') \\\n",
    "    .appName('TLC') \\\n",
    "    .getOrCreate()\n"
   ]
  },
  {
   "cell_type": "code",
   "execution_count": 27,
   "metadata": {},
   "outputs": [],
   "source": [
    "import numpy as np\n",
    "\n",
    "#generator function\n",
    "def file_content(main_folder):\n",
    "    file_list = os.listdir(main_folder)\n",
    "    for file_name in file_list:\n",
    "        yield file_name\n",
    "\n",
    "def record_stat(filepath):\n",
    "    file_size = [] #list to hold file size \n",
    "    file_rec = [] #list to hold file records\n",
    "    for file in file_content(filepath):\n",
    "        file_path = os.path.join('Files/tlc_0.2perc', file)\n",
    "        df = spark.read.csv(file_path, header=True)\n",
    "        file_size.append(df.count())\n",
    "        x = os.stat(file_path).st_size\n",
    "        file_rec.append(x)\n",
    "    return  np.array(file_rec) , np.array(file_size)\n",
    "    \n",
    "def cal_stat(file_rec, file_size):\n",
    "    \n",
    "    stat = {}\n",
    "    records = {}\n",
    "    size = {}\n",
    "    for x in ['min','max','mean','25th','50th','75th','90th']:\n",
    "        if x == 'min':\n",
    "            records[x] = min(file_rec)\n",
    "            size[x] = min(file_size)\n",
    "        elif x == 'max':\n",
    "            records[x] = max(file_rec)\n",
    "            size[x] = max(file_size)\n",
    "        elif x == 'mean':\n",
    "            records[x] = np.around(np.mean(file_rec),2)\n",
    "            size[x] = np.around(np.mean(file_size),2)\n",
    "        elif x == '25th':\n",
    "            records[x] = np.around(np.percentile(file_rec,25),2)\n",
    "            size[x] = np.around(np.percentile(file_size,25),2)\n",
    "        elif x == '50th':\n",
    "            records[x] = np.around(np.percentile(file_rec,50),2)\n",
    "            size[x] = np.around(np.percentile(file_size,50),2)\n",
    "        elif x == '75th':\n",
    "            records[x] = np.around(np.percentile(file_rec,75),2)\n",
    "            size[x] = np.around(np.percentile(file_size,75),2)\n",
    "        elif x == '90th':\n",
    "            records[x] = np.around(np.percentile(file_rec,90),2)\n",
    "            size[x] = np.around(np.percentile(file_size,90),2)\n",
    "        stat['record stats'] = records\n",
    "        stat['size stats'] = size\n",
    "    return print(stat)"
   ]
  },
  {
   "cell_type": "code",
   "execution_count": 28,
   "metadata": {},
   "outputs": [],
   "source": [
    "a,b = record_stat('./Files/tlc_0.2perc')\n"
   ]
  },
  {
   "cell_type": "code",
   "execution_count": 18,
   "metadata": {},
   "outputs": [
    {
     "name": "stdout",
     "output_type": "stream",
     "text": [
      "{'record stats': {'min': 2512, 'max': 5959352, 'mean': 2152301.64, '25th': 257388.0, '50th': 1479679.0, '75th': 4181249.0, '90th': 5188938.0}, 'size stats': {'min': 15, 'max': 47703, 'mean': 17922.07, '25th': 3037.0, '50th': 19532.0, '75th': 28560.0, '90th': 31372.0}}\n"
     ]
    }
   ],
   "source": [
    "cal_stat(a,b)"
   ]
  },
  {
   "cell_type": "code",
   "execution_count": 89,
   "metadata": {},
   "outputs": [],
   "source": [
    "### Checking Schema version\n",
    "import shutil\n",
    "def schema(filepath):\n",
    "    schema_list = []\n",
    "    current_schema = []\n",
    "    version = 0\n",
    "    \n",
    "    for file in file_content(filepath):\n",
    "        file_path = os.path.join('Files/tlc_0.2perc', file)\n",
    "        df = spark.read.csv(file_path, header=True)\n",
    "        schema_new = list(df.columns)\n",
    "        for x in range(len(schema_new)):\n",
    "            schema_new[x] = schema_new[x].lower()\n",
    "            \n",
    "        if schema_new == current_schema:\n",
    "            shutil.copy2(file_path,'Files/schema_v_'+ str(version))\n",
    "        elif schema_new != current_schema:\n",
    "            version += 1\n",
    "            if os.path.exists('Files/schema_v_'+ str(version)):\n",
    "                pass\n",
    "            else:\n",
    "                os.mkdir('Files/schema_v_'+ str(version))\n",
    "                shutil.copy2(file_path,'Files/schema_v_'+ str(version))\n",
    "            current_schema = schema_new\n",
    "            \n",
    "schema('Files/tlc_0.2perc')    "
   ]
  },
  {
   "cell_type": "code",
   "execution_count": null,
   "metadata": {},
   "outputs": [],
   "source": []
  }
 ],
 "metadata": {
  "kernelspec": {
   "display_name": "Python 3",
   "language": "python",
   "name": "python3"
  },
  "language_info": {
   "codemirror_mode": {
    "name": "ipython",
    "version": 3
   },
   "file_extension": ".py",
   "mimetype": "text/x-python",
   "name": "python",
   "nbconvert_exporter": "python",
   "pygments_lexer": "ipython3",
   "version": "3.8.6"
  }
 },
 "nbformat": 4,
 "nbformat_minor": 2
}
