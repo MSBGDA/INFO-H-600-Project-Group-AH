{
 "cells": [
  {
   "cell_type": "markdown",
   "metadata": {},
   "source": [
    "## Course: Computing Foundation of Data Science\n",
    "## Project Title: Big Data \n",
    "## Authors: Kubam Ivo Mbi and Berdai Hasnae\n"
   ]
  },
  {
   "cell_type": "markdown",
   "metadata": {},
   "source": [
    "### Task 2.1: Collecting metadata, inspecting schema evolution"
   ]
  },
  {
   "cell_type": "code",
   "execution_count": 41,
   "metadata": {},
   "outputs": [
    {
     "name": "stdout",
     "output_type": "stream",
     "text": [
      "Total number of files:  281\n"
     ]
    }
   ],
   "source": [
    "import os\n",
    "# Check wether folder exist if not create\n",
    "if os.path.exists('Files'):\n",
    "    pass\n",
    "else:\n",
    "    os.mkdir('Files')\n",
    "    # unzip the files\n",
    "    # This line of code assumes the zipped file is in the same location as this jupyter notebook\n",
    "    import zipfile\n",
    "    \n",
    "    with zipfile.ZipFile('tlc_0.2perc.zip') as zip_ref:\n",
    "        zip_ref.extractall('Files/')\n",
    "#Checking the total number of files\n",
    "print(\"Total number of files: \", str(len(os.listdir('Files/tlc_0.2perc'))))"
   ]
  },
  {
   "cell_type": "code",
   "execution_count": 36,
   "metadata": {},
   "outputs": [],
   "source": [
    "# Create subfolders to hold similiar files\n",
    "for folder in ['yellow','green','FHV','FHVHV']:\n",
    "    if os.path.exists(os.path.join('Files', folder)):\n",
    "        pass\n",
    "    else:\n",
    "        os.mkdir(os.path.join('Files', folder))\n",
    "        \n",
    "# Reading each file and make a copy in the corresponding subfolder\n",
    "import shutil\n",
    "\n",
    "#generator function\n",
    "def file_content(main_folder):\n",
    "    file_list = os.listdir(main_folder)\n",
    "    for file_name in file_list:\n",
    "        yield file_name\n",
    "\n",
    "\n",
    "for file in file_content('Files/tlc_0.2perc'):\n",
    "    for word in ['yellow','green','FHV','FHVHV']:\n",
    "        if file.lower().startswith('yellow'):\n",
    "            shutil.copy2(os.path.join('Files/tlc_0.2perc', file),'Files/yellow')\n",
    "        elif file.lower().startswith('green'):\n",
    "            shutil.copy2(os.path.join('Files/tlc_0.2perc', file),'Files/green')\n",
    "        elif file.lower().startswith('fhvhv'):\n",
    "            shutil.copy2(os.path.join('Files/tlc_0.2perc', file),'Files/FHVHV')\n",
    "        elif file.lower().startswith('fhv'):\n",
    "            shutil.copy2(os.path.join('Files/tlc_0.2perc', file),'Files/FHV')\n"
   ]
  },
  {
   "cell_type": "code",
   "execution_count": 49,
   "metadata": {},
   "outputs": [
    {
     "name": "stdout",
     "output_type": "stream",
     "text": [
      "Total number of files in  yellow  sub-folder is  131\n",
      "Total number of files in  green  sub-folder is  76\n",
      "Total number of files in  FHV  sub-folder is  64\n",
      "Total number of files in  FHVHV  sub-folder is  10\n",
      "Cummulative Total number of files is 281\n"
     ]
    }
   ],
   "source": [
    "import os           \n",
    "#Verifying all files were copied\n",
    "x = 0 # tracking subtotals\n",
    "y = 0 # cummulative total\n",
    "for files in ['yellow','green','FHV','FHVHV']:\n",
    "    x = len(next(os.walk(os.path.join('Files', files)))[2])\n",
    "    print(\"Total number of files in \", files,\" sub-folder is \", str(x))\n",
    "    y += x\n",
    "print(\"Cummulative Total number of files is\",  str(y))"
   ]
  },
  {
   "cell_type": "code",
   "execution_count": null,
   "metadata": {},
   "outputs": [],
   "source": []
  }
 ],
 "metadata": {
  "kernelspec": {
   "display_name": "Python 3",
   "language": "python",
   "name": "python3"
  },
  "language_info": {
   "codemirror_mode": {
    "name": "ipython",
    "version": 3
   },
   "file_extension": ".py",
   "mimetype": "text/x-python",
   "name": "python",
   "nbconvert_exporter": "python",
   "pygments_lexer": "ipython3",
   "version": "3.6.7"
  }
 },
 "nbformat": 4,
 "nbformat_minor": 2
}
