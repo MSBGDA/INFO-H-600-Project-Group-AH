{
 "cells": [
  {
   "cell_type": "markdown",
   "metadata": {},
   "source": [
    "## Course: Computing Foundation of Data Science\n",
    "## Project Title: Big Data \n",
    "## Authors: Kubam Ivo Mbi and Berdai Hasnae\n"
   ]
  },
  {
   "cell_type": "code",
   "execution_count": 17,
   "metadata": {},
   "outputs": [
    {
     "name": "stdout",
     "output_type": "stream",
     "text": [
      "Total number of files:  281\n"
     ]
    }
   ],
   "source": [
    "# Getting the necessary files ready\n",
    "import os\n",
    "# Check wether folder exist if not create\n",
    "if os.path.exists('Files'):\n",
    "    pass\n",
    "else:\n",
    "    os.mkdir('Files')\n",
    "    # unzip the files\n",
    "    # This line of code assumes the zipped file is in the same location as this jupyter notebook\n",
    "    import zipfile\n",
    "    \n",
    "    with zipfile.ZipFile('tlc_0.2perc.zip') as zip_ref:\n",
    "        zip_ref.extractall('Files/')\n",
    "#Checking the total number of files\n",
    "print(\"Total number of files: \", str(len(os.listdir('Files/tlc_0.2perc'))))"
   ]
  },
  {
   "cell_type": "markdown",
   "metadata": {},
   "source": [
    "## Task 2.1: Collecting metadata, inspecting schema evolution"
   ]
  },
  {
   "cell_type": "code",
   "execution_count": 18,
   "metadata": {},
   "outputs": [],
   "source": [
    "# Creating a new spark session\n",
    "from pyspark.sql import SparkSession\n",
    "spark = SparkSession.builder \\\n",
    "    .master('local[*]') \\\n",
    "    .appName('TLC') \\\n",
    "    .getOrCreate()\n"
   ]
  },
  {
   "cell_type": "code",
   "execution_count": 93,
   "metadata": {},
   "outputs": [],
   "source": [
    "# defining some key functions\n",
    "\n",
    "#importing necessary libraries\n",
    "import numpy as np\n",
    "import shutil\n",
    "\n",
    "#generator function\n",
    "def file_content(main_folder):\n",
    "    file_list = os.listdir(main_folder)\n",
    "    for file_name in file_list:\n",
    "        yield file_name\n",
    "\n",
    "def record_stat_schema(filepath):\n",
    "    \"\"\"Function receives a file path of a folder containing files as its argument. For each file,\\\n",
    "    the number of records and files size is calculated and two lists are return containing all these values.\\\n",
    "    This function also checks the schema of these files and group them by their schema\"\"\"\n",
    "    \n",
    "    file_size = [] #list to hold file size \n",
    "    file_rec = [] #list to hold file records\n",
    "    schema_list = [] # list to hold all unique schema\n",
    "    current_schema = [] #\n",
    "    schema_list = []\n",
    "    version = 0\n",
    "    \n",
    "    for file in file_content(filepath):\n",
    "        file_path = os.path.join('Files/tlc_0.2perc', file)\n",
    "        df = spark.read.csv(file_path, header=True)\n",
    "        \n",
    "        #Checking file size and number of records\n",
    "        file_rec.append(df.count()) # append number of records\n",
    "       # x = os.stat(file_path).st_size\n",
    "        file_size.append(os.stat(file_path).st_size) # append each number of records\n",
    "        \n",
    "        #Checking the schema\n",
    "        \n",
    "        schema_new = list(df.columns)\n",
    "                          \n",
    "        for x in range(len(schema_new)):\n",
    "            schema_new[x] = schema_new[x].lower() # set the columns names to lowercase()\n",
    "           \n",
    "        if schema_new not in schema_list:\n",
    "            schema_list.append(schema_new)\n",
    "           \n",
    "                      \n",
    "        if schema_new == current_schema:\n",
    "            shutil.copy2(file_path,'Files/schema_v_'+ str(version))\n",
    "        elif schema_new != current_schema:\n",
    "            version += 1\n",
    "            if os.path.exists('Files/schema_v_'+ str(version)):\n",
    "                pass\n",
    "            else:\n",
    "                os.mkdir('Files/schema_v_'+ str(version))\n",
    "                shutil.copy2(file_path,'Files/schema_v_'+ str(version))\n",
    "            current_schema = schema_new\n",
    "            \n",
    "    return  np.array(file_rec) , np.array(file_size), schema_list\n",
    "    \n"
   ]
  },
  {
   "cell_type": "code",
   "execution_count": null,
   "metadata": {},
   "outputs": [],
   "source": [
    "def cal_stat(file_rec, file_size):\n",
    "    ''' Function receivs two lists containing all file sizes and number of records respectively./\n",
    "    It then calculates all the necessary statistics.'''\n",
    "    \n",
    "    stat = {} # Dictionary to hold statistics for number of records and file sizes\n",
    "    records = {} # Dictionary to hold statistics for number of records\n",
    "    size = {} # Dictionary to hold statistics for file sizes\n",
    "    \n",
    "    for x in ['min','max','mean','25th','50th','75th','90th']:\n",
    "        if x == 'min':\n",
    "            records[x] = min(file_rec)\n",
    "            size[x] = min(file_size)\n",
    "        elif x == 'max':\n",
    "            records[x] = max(file_rec)\n",
    "            size[x] = max(file_size)\n",
    "        elif x == 'mean':\n",
    "            records[x] = np.around(np.mean(file_rec),2)\n",
    "            size[x] = np.around(np.mean(file_size),2)\n",
    "        elif x == '25th':\n",
    "            records[x] = np.around(np.percentile(file_rec,25),2)\n",
    "            size[x] = np.around(np.percentile(file_size,25),2)\n",
    "        elif x == '50th':\n",
    "            records[x] = np.around(np.percentile(file_rec,50),2)\n",
    "            size[x] = np.around(np.percentile(file_size,50),2)\n",
    "        elif x == '75th':\n",
    "            records[x] = np.around(np.percentile(file_rec,75),2)\n",
    "            size[x] = np.around(np.percentile(file_size,75),2)\n",
    "        elif x == '90th':\n",
    "            records[x] = np.around(np.percentile(file_rec,90),2)\n",
    "            size[x] = np.around(np.percentile(file_size,90),2)\n",
    "        stat['record stats'] = records\n",
    "        stat['size stats'] = size\n",
    "    return print(stat)"
   ]
  },
  {
   "cell_type": "code",
   "execution_count": 94,
   "metadata": {},
   "outputs": [],
   "source": [
    "a,b,c = record_stat_schema('./Files/tlc_0.2perc')\n"
   ]
  },
  {
   "cell_type": "code",
   "execution_count": 18,
   "metadata": {},
   "outputs": [
    {
     "name": "stdout",
     "output_type": "stream",
     "text": [
      "{'record stats': {'min': 2512, 'max': 5959352, 'mean': 2152301.64, '25th': 257388.0, '50th': 1479679.0, '75th': 4181249.0, '90th': 5188938.0}, 'size stats': {'min': 15, 'max': 47703, 'mean': 17922.07, '25th': 3037.0, '50th': 19532.0, '75th': 28560.0, '90th': 31372.0}}\n"
     ]
    }
   ],
   "source": [
    "cal_stat(a,b)"
   ]
  },
  {
   "cell_type": "code",
   "execution_count": 102,
   "metadata": {},
   "outputs": [
    {
     "name": "stdout",
     "output_type": "stream",
     "text": [
      "schema : 1\n",
      "['hvfhs_license_num', 'dispatching_base_num', 'pickup_datetime', 'dropoff_datetime', 'sr_flag']\n",
      "schema : 2\n",
      "['dispatching_base_num', 'pickup_date', 'locationid']\n",
      "schema : 3\n",
      "['dispatching_base_num', 'pickup_datetime', 'dropoff_datetime']\n",
      "schema : 4\n",
      "['dispatching_base_num', 'pickup_datetime', 'dropoff_datetime', 'sr_flag']\n",
      "schema : 5\n",
      "['pickup_datetime', 'dropoff_datetime', 'sr_flag', 'dispatching_base_number', 'dispatching_base_num']\n",
      "schema : 6\n",
      "['lpep_pickup_datetime', 'lpep_dropoff_datetime', 'pickup_longitude', 'pickup_latitude', 'dropoff_longitude', 'dropoff_latitude', 'ehail_fee', 'trip_type']\n",
      "schema : 7\n",
      "['lpep_pickup_datetime', 'lpep_dropoff_datetime', 'pickup_longitude', 'pickup_latitude', 'dropoff_longitude', 'dropoff_latitude', 'ehail_fee', 'trip_type']\n",
      "schema : 8\n",
      "['lpep_pickup_datetime', 'lpep_dropoff_datetime', 'ehail_fee', 'trip_type']\n",
      "schema : 9\n",
      "['lpep_pickup_datetime', 'lpep_dropoff_datetime', 'ehail_fee', 'trip_type']\n",
      "schema : 10\n",
      "['vendor_name', 'trip_pickup_datetime', 'trip_dropoff_datetime', 'start_lon', 'start_lat', 'rate_code', 'store_and_forward', 'end_lon', 'end_lat', 'fare_amt', 'surcharge', 'tip_amt', 'tolls_amt', 'total_amt']\n",
      "schema : 11\n",
      "['vendor_id', 'pickup_datetime', 'dropoff_datetime', 'pickup_longitude', 'pickup_latitude', 'rate_code', 'dropoff_longitude', 'dropoff_latitude', 'surcharge']\n",
      "schema : 12\n",
      "['vendor_id', 'pickup_datetime', 'dropoff_datetime', 'pickup_longitude', 'pickup_latitude', 'rate_code', 'dropoff_longitude', 'dropoff_latitude', 'surcharge']\n",
      "schema : 13\n",
      "['pickup_longitude', 'pickup_latitude', 'dropoff_longitude', 'dropoff_latitude']\n",
      "schema : 14\n",
      "[]\n"
     ]
    }
   ],
   "source": [
    "#Schema analysis\n",
    "for x in range(len(c)):\n",
    "    for y in range(len(c[x])):\n",
    "        c[x][y] = c[x][y].strip() #removing leading and trailing spaces\n",
    "        \n",
    "# Columns in schema 1 to 14 not in schema 15\n",
    "for x in range(14):\n",
    "    ls_diff = []\n",
    "    for elem in c[x]:\n",
    "        if elem not in c[14]:\n",
    "            ls_diff.append(elem)\n",
    "    print('schema :', x+1)\n",
    "    print(ls_diff)"
   ]
  },
  {
   "cell_type": "code",
   "execution_count": 103,
   "metadata": {},
   "outputs": [
    {
     "name": "stdout",
     "output_type": "stream",
     "text": [
      "schema 1\n",
      "{'fare_amount', 'improvement_surcharge', 'congestion_surcharge', 'passenger_count', 'tolls_amount', 'extra', 'payment_type', 'store_and_fwd_flag', 'total_amount', 'ratecodeid', 'mta_tax', 'trip_distance', 'tpep_dropoff_datetime', 'tpep_pickup_datetime', 'tip_amount', 'vendorid'}\n",
      "schema 2\n",
      "{'fare_amount', 'improvement_surcharge', 'pulocationid', 'passenger_count', 'payment_type', 'total_amount', 'ratecodeid', 'dolocationid', 'tpep_pickup_datetime', 'vendorid', 'congestion_surcharge', 'tolls_amount', 'extra', 'store_and_fwd_flag', 'mta_tax', 'trip_distance', 'tpep_dropoff_datetime', 'tip_amount'}\n",
      "schema 3\n",
      "{'fare_amount', 'improvement_surcharge', 'congestion_surcharge', 'passenger_count', 'tolls_amount', 'extra', 'payment_type', 'store_and_fwd_flag', 'total_amount', 'ratecodeid', 'mta_tax', 'trip_distance', 'tpep_dropoff_datetime', 'tpep_pickup_datetime', 'tip_amount', 'vendorid'}\n",
      "schema 4\n",
      "{'fare_amount', 'improvement_surcharge', 'congestion_surcharge', 'passenger_count', 'tolls_amount', 'extra', 'payment_type', 'store_and_fwd_flag', 'total_amount', 'ratecodeid', 'mta_tax', 'trip_distance', 'tpep_dropoff_datetime', 'tpep_pickup_datetime', 'tip_amount', 'vendorid'}\n",
      "schema 5\n",
      "{'fare_amount', 'improvement_surcharge', 'congestion_surcharge', 'passenger_count', 'tolls_amount', 'extra', 'payment_type', 'store_and_fwd_flag', 'total_amount', 'ratecodeid', 'mta_tax', 'trip_distance', 'tpep_dropoff_datetime', 'tpep_pickup_datetime', 'tip_amount', 'vendorid'}\n",
      "schema 6\n",
      "{'improvement_surcharge', 'congestion_surcharge', 'pulocationid', 'dolocationid', 'tpep_dropoff_datetime', 'tpep_pickup_datetime'}\n",
      "schema 7\n",
      "{'congestion_surcharge', 'pulocationid', 'dolocationid', 'tpep_dropoff_datetime', 'tpep_pickup_datetime'}\n",
      "schema 8\n",
      "{'tpep_dropoff_datetime', 'tpep_pickup_datetime', 'congestion_surcharge'}\n",
      "schema 9\n",
      "{'tpep_dropoff_datetime', 'tpep_pickup_datetime'}\n",
      "schema 10\n",
      "{'fare_amount', 'improvement_surcharge', 'congestion_surcharge', 'pulocationid', 'tolls_amount', 'extra', 'store_and_fwd_flag', 'total_amount', 'ratecodeid', 'dolocationid', 'tpep_dropoff_datetime', 'tpep_pickup_datetime', 'tip_amount', 'vendorid'}\n",
      "schema 11\n",
      "{'improvement_surcharge', 'congestion_surcharge', 'pulocationid', 'extra', 'ratecodeid', 'dolocationid', 'tpep_dropoff_datetime', 'tpep_pickup_datetime', 'vendorid'}\n",
      "schema 12\n",
      "{'improvement_surcharge', 'congestion_surcharge', 'pulocationid', 'extra', 'ratecodeid', 'dolocationid', 'tpep_dropoff_datetime', 'tpep_pickup_datetime', 'vendorid'}\n",
      "schema 13\n",
      "{'pulocationid', 'dolocationid', 'congestion_surcharge'}\n",
      "schema 14\n",
      "{'congestion_surcharge'}\n"
     ]
    }
   ],
   "source": [
    "#Columns in schema 15 not in 1-14\n",
    "for x in range(14):\n",
    "    print('schema',x+1)\n",
    "    print(set(c[14])-set(c[x]))"
   ]
  },
  {
   "cell_type": "code",
   "execution_count": 104,
   "metadata": {},
   "outputs": [
    {
     "name": "stdout",
     "output_type": "stream",
     "text": [
      "schema : 1\n",
      "['pulocationid', 'dolocationid']\n",
      "schema : 2\n",
      "[]\n",
      "schema : 3\n",
      "['pulocationid', 'dolocationid']\n",
      "schema : 4\n",
      "['pulocationid', 'dolocationid']\n",
      "schema : 5\n",
      "['pulocationid', 'dolocationid']\n",
      "schema : 6\n",
      "['vendorid', 'store_and_fwd_flag', 'ratecodeid', 'passenger_count', 'trip_distance', 'fare_amount', 'extra', 'mta_tax', 'tip_amount', 'tolls_amount', 'total_amount', 'payment_type']\n",
      "schema : 7\n",
      "['vendorid', 'store_and_fwd_flag', 'ratecodeid', 'passenger_count', 'trip_distance', 'fare_amount', 'extra', 'mta_tax', 'tip_amount', 'tolls_amount', 'improvement_surcharge', 'total_amount', 'payment_type']\n",
      "schema : 8\n",
      "['vendorid', 'store_and_fwd_flag', 'ratecodeid', 'pulocationid', 'dolocationid', 'passenger_count', 'trip_distance', 'fare_amount', 'extra', 'mta_tax', 'tip_amount', 'tolls_amount', 'improvement_surcharge', 'total_amount', 'payment_type']\n",
      "schema : 9\n",
      "['vendorid', 'store_and_fwd_flag', 'ratecodeid', 'pulocationid', 'dolocationid', 'passenger_count', 'trip_distance', 'fare_amount', 'extra', 'mta_tax', 'tip_amount', 'tolls_amount', 'improvement_surcharge', 'total_amount', 'payment_type', 'congestion_surcharge']\n",
      "schema : 10\n",
      "['passenger_count', 'trip_distance', 'payment_type', 'mta_tax']\n",
      "schema : 11\n",
      "['passenger_count', 'trip_distance', 'store_and_fwd_flag', 'payment_type', 'fare_amount', 'mta_tax', 'tip_amount', 'tolls_amount', 'total_amount']\n",
      "schema : 12\n",
      "['passenger_count', 'trip_distance', 'store_and_fwd_flag', 'payment_type', 'fare_amount', 'mta_tax', 'tip_amount', 'tolls_amount', 'total_amount']\n",
      "schema : 13\n",
      "['vendorid', 'tpep_pickup_datetime', 'tpep_dropoff_datetime', 'passenger_count', 'trip_distance', 'ratecodeid', 'store_and_fwd_flag', 'payment_type', 'fare_amount', 'extra', 'mta_tax', 'tip_amount', 'tolls_amount', 'improvement_surcharge', 'total_amount']\n",
      "schema : 14\n",
      "['vendorid', 'tpep_pickup_datetime', 'tpep_dropoff_datetime', 'passenger_count', 'trip_distance', 'ratecodeid', 'store_and_fwd_flag', 'pulocationid', 'dolocationid', 'payment_type', 'fare_amount', 'extra', 'mta_tax', 'tip_amount', 'tolls_amount', 'improvement_surcharge', 'total_amount']\n"
     ]
    }
   ],
   "source": [
    "# Common columns in schema 15 and in 1-14\n",
    "for x in range(14):\n",
    "    ls_common = []\n",
    "    for elem in c[x]:\n",
    "        if elem in c[14]:\n",
    "            ls_common.append(elem)\n",
    "    print('schema :', x+1)\n",
    "    print(ls_common)"
   ]
  },
  {
   "cell_type": "code",
   "execution_count": 100,
   "metadata": {},
   "outputs": [],
   "source": [
    "# Merging files of Schema 4 and 6\n",
    "for file in os.listdir('./Files/schema_v_6'):\n",
    "    shutil.move(os.path.join('Files/schema_v_6', file),'./Files/schema_v_4')\n",
    "    \n",
    "#delete the schema v 6 folder  \n",
    "os.rmdir('./Files/schema_v_6')"
   ]
  },
  {
   "cell_type": "markdown",
   "metadata": {},
   "source": [
    "## 2.2 Data integration"
   ]
  },
  {
   "cell_type": "code",
   "execution_count": null,
   "metadata": {},
   "outputs": [],
   "source": []
  }
 ],
 "metadata": {
  "kernelspec": {
   "display_name": "Python 3",
   "language": "python",
   "name": "python3"
  },
  "language_info": {
   "codemirror_mode": {
    "name": "ipython",
    "version": 3
   },
   "file_extension": ".py",
   "mimetype": "text/x-python",
   "name": "python",
   "nbconvert_exporter": "python",
   "pygments_lexer": "ipython3",
   "version": "3.8.6"
  }
 },
 "nbformat": 4,
 "nbformat_minor": 2
}
